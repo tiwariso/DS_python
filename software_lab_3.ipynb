{
  "nbformat": 4,
  "nbformat_minor": 0,
  "metadata": {
    "colab": {
      "provenance": []
    },
    "kernelspec": {
      "name": "python3",
      "display_name": "Python 3"
    },
    "language_info": {
      "name": "python"
    }
  },
  "cells": [
    {
      "cell_type": "code",
      "execution_count": null,
      "metadata": {
        "colab": {
          "base_uri": "https://localhost:8080/"
        },
        "id": "Hknta27irRMs",
        "outputId": "b0e2d601-3fc4-429c-d4d8-bb6921fe970e"
      },
      "outputs": [
        {
          "output_type": "stream",
          "name": "stdout",
          "text": [
            "r\tp(r)\n",
            "0\t0.004096000000000003\n",
            "1\t0.03686400000000002\n",
            "2\t0.1382400000000001\n",
            "3\t0.2764800000000001\n",
            "4\t0.3110400000000001\n",
            "5\t0.1866240000000001\n",
            "6\t0.04665599999999999\n",
            "mean = 3.5999999999999996\n",
            "variance = 1.44\n"
          ]
        }
      ],
      "source": [
        "from scipy.stats import binom\n",
        "# setting the values\n",
        "# of n and p\n",
        "n = 6\n",
        "p = 0.6\n",
        "# defining the list of r values\n",
        "r_values = list(range(n + 1))\n",
        "# obtaining the mean and variance\n",
        "mean, var = binom.stats(n, p)\n",
        "# list of pmf values\n",
        "dist = [binom.pmf(r, n, p) for r in r_values ]\n",
        "# printing the table\n",
        "print(\"r\\tp(r)\")\n",
        "for i in range(n + 1):\n",
        "\tprint(str(r_values[i]) + \"\\t\" + str(dist[i]))\n",
        "# printing mean and variance\n",
        "print(\"mean = \"+str(mean))\n",
        "print(\"variance = \"+str(var))\n",
        "\n"
      ]
    },
    {
      "cell_type": "code",
      "source": [
        "from scipy.stats import binom\n",
        "\n",
        "# n = number of trials, p = probability of success (getting a head)\n",
        "n = 10\n",
        "p = 0.5  # Fair coin, so probability of heads is 0.5\n",
        "# r = number of successes (getting exactly 5 heads)\n",
        "r = 5\n",
        "probability = binom.pmf(r, n, p)\n",
        "\n",
        "print(\"The probability of getting exactly 5 heads in 10 tosses is:\", probability)\n"
      ],
      "metadata": {
        "colab": {
          "base_uri": "https://localhost:8080/"
        },
        "id": "omj4ndNYyF5q",
        "outputId": "80580958-c4e2-4965-c5e0-bd9dffcac54d"
      },
      "execution_count": null,
      "outputs": [
        {
          "output_type": "stream",
          "name": "stdout",
          "text": [
            "The probability of getting exactly 5 heads in 10 tosses is: 0.24609375000000003\n"
          ]
        }
      ]
    },
    {
      "cell_type": "code",
      "source": [
        "from scipy.stats import binom\n",
        "n = 20  # Number of shots\n",
        "p = 0.7  # Probability of scoring a basket\n",
        "probability_at_least_10 = 1 - sum([binom.pmf(k, n, p) for k in range(10)])\n",
        "print(\"The probability of scoring at least 10 baskets in 20 shots is:\", probability_at_least_10)\n"
      ],
      "metadata": {
        "colab": {
          "base_uri": "https://localhost:8080/"
        },
        "id": "tHPQ6rQMyt8n",
        "outputId": "e4324b48-1225-43a7-f9ad-7f994c7d6420"
      },
      "execution_count": null,
      "outputs": [
        {
          "output_type": "stream",
          "name": "stdout",
          "text": [
            "The probability of scoring at least 10 baskets in 20 shots is: 0.9828551835687416\n"
          ]
        }
      ]
    },
    {
      "cell_type": "code",
      "source": [
        "n =20\n",
        "p = 0.166\n",
        "k=0\n",
        "probability1=binom.pmf(k,n,p)\n",
        "k=1\n",
        "probability2=binom.pmf(k,n,p)\n",
        "k=2\n",
        "probability3=binom.pmf(k,n,p)\n",
        "k=3\n",
        "probability4=binom.pmf(k,n,p)\n",
        "k=4\n",
        "probability5=binom.pmf(k,n,p)\n",
        "probability=1-probability1-probability2-probability3-probability4-probability5\n",
        "print(f\"The probabilty of at least 10 success in {n} trails is {probability}\")"
      ],
      "metadata": {
        "id": "VW2UZwdl2dj6",
        "colab": {
          "base_uri": "https://localhost:8080/"
        },
        "outputId": "11efe089-bf16-4b5a-d213-b51d1824be1e"
      },
      "execution_count": null,
      "outputs": [
        {
          "output_type": "stream",
          "name": "stdout",
          "text": [
            "The probabilty of at least 10 success in 20 trails is 0.22866777639100683\n"
          ]
        }
      ]
    },
    {
      "cell_type": "code",
      "source": [],
      "metadata": {
        "id": "mYcdgKeI_BWr"
      },
      "execution_count": null,
      "outputs": []
    }
  ]
}